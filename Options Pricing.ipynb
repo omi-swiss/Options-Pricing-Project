{
 "cells": [
  {
   "cell_type": "code",
   "execution_count": 14,
   "metadata": {},
   "outputs": [
    {
     "ename": "SyntaxError",
     "evalue": "invalid syntax (1315976713.py, line 2)",
     "output_type": "error",
     "traceback": [
      "\u001b[1;36m  Cell \u001b[1;32mIn[14], line 2\u001b[1;36m\u001b[0m\n\u001b[1;33m    pip install fredapi\u001b[0m\n\u001b[1;37m        ^\u001b[0m\n\u001b[1;31mSyntaxError\u001b[0m\u001b[1;31m:\u001b[0m invalid syntax\n"
     ]
    }
   ],
   "source": [
    "#pip install yfinance\n",
    "#pip install fredapi\n",
    "#pip install robin_stocks\n",
    "#pip install ib_insync"
   ]
  },
  {
   "cell_type": "code",
   "execution_count": 35,
   "metadata": {},
   "outputs": [],
   "source": [
    "#Necessary libraries to import\n",
    "import numpy as np\n",
    "import pandas as pd\n",
    "from scipy.stats import norm\n",
    "import matplotlib.pyplot as plt\n",
    "import yfinance as yf\n",
    "from datetime import datetime, timedelta\n",
    "from fredapi import Fred\n",
    "import robin_stocks.robinhood as rh\n"
   ]
  },
  {
   "cell_type": "markdown",
   "metadata": {},
   "source": [
    "### Black-Scholes Model\n",
    "\n",
    "The **Black-Scholes model** is a widely-used mathematical model for pricing European-style options. It assumes that the stock price follows a geometric Brownian motion with constant drift and volatility. The model helps determine the theoretical value of call and put options.\n",
    "\n",
    "The formula for a **call option** price \\( C \\) is:\n",
    "\n",
    "$$\n",
    "C = S \\cdot N(d_1) - K \\cdot e^{-rT} \\cdot N(d_2)\n",
    "$$\n",
    "\n",
    "The formula for a **put option** price \\( P \\) is:\n",
    "\n",
    "$$\n",
    "P = K \\cdot e^{-rT} \\cdot N(-d_2) - S \\cdot N(-d_1)\n",
    "$$\n",
    "\n",
    "Where:\n",
    "- \\( S \\) is the current stock price.\n",
    "- \\( K \\) is the option's strike price.\n",
    "- \\( T \\) is the time to maturity (in years).\n",
    "- \\( r \\) is the risk-free interest rate.\n",
    "- \\( \\sigma \\) is the volatility of the stock's returns.\n",
    "- \\( N(d_1) \\) and \\( N(d_2) \\) are the cumulative distribution\n"
   ]
  },
  {
   "cell_type": "code",
   "execution_count": 2,
   "metadata": {},
   "outputs": [],
   "source": [
    "def black_scholes(S, K, T, r, sigma, option_type='call'):\n",
    "    # S: Current stock price\n",
    "    # K: Strike price of the option\n",
    "    # T: Time to maturity (in years)\n",
    "    # r: Risk-free interest rate (as a decimal)\n",
    "    # sigma: Volatility of the stock (standard deviation of returns)\n",
    "    # option_type: 'call' for call option, 'put' for put option\n",
    "\n",
    "    # Calculate d1 using the Black-Scholes formula\n",
    "    d1 = (np.log(S / K) + (r + 0.5 * sigma**2) * T) / (sigma * np.sqrt(T))\n",
    "    # Calculate d2, which is d1 adjusted for volatility\n",
    "    d2 = d1 - sigma * np.sqrt(T) \n",
    "    # For a call option, calculate the price using the Black-Scholes formula\n",
    "    if option_type == 'call':\n",
    "        price = S * norm.cdf(d1) - K * np.exp(-r * T) * norm.cdf(d2) \n",
    "    # For a put option, calculate the price using the Black-Scholes formula\n",
    "    elif option_type == 'put':\n",
    "        price = K * np.exp(-r * T) * norm.cdf(-d2) - S * norm.cdf(-d1) \n",
    "    # Return the computed option price\n",
    "    return price"
   ]
  },
  {
   "cell_type": "markdown",
   "metadata": {},
   "source": [
    "### Monte Carlo Simulation for Option Pricing\n",
    "\n",
    "The **Monte Carlo method** is a statistical technique used to estimate the price of options by simulating the random paths of the underlying asset price under the risk-neutral measure. The method works by generating a large number of possible future price paths and computing the expected payoff of the option across those paths.\n",
    "\n",
    "The underlying stock price \\( S_t \\) at time \\( t \\) can be modeled using the following stochastic differential equation:\n",
    "\n",
    "$$\n",
    "dS_t = rS_t dt + \\sigma S_t dW_t\n",
    "$$\n",
    "\n",
    "Where:\n",
    "- \\( S_t \\) is the stock price at time \\( t \\),\n",
    "- \\( r \\) is the risk-free interest rate,\n",
    "- \\( \\sigma \\) is the volatility of the stock's returns,\n",
    "- \\( dW_t \\) is a Wiener process or Brownian motion representing the random movement of the stock price.\n",
    "\n",
    "### Steps for the Monte Carlo Simulation:\n",
    "\n",
    "1. **Simulate Random Paths**:  \n",
    "   The future stock price \\( S_T \\) at time \\( T \\) (the option's maturity) is simulated using the discretized form of the geometric Brownian motion:\n",
    "\n",
    "   $$\n",
    "   S_T = S_0 \\cdot \\exp\\left(\\left(r - \\frac{\\sigma^2}{2}\\right)T + \\sigma \\cdot \\sqrt{T} \\cdot Z\\right)\n",
    "   $$\n",
    "\n",
    "   Where:\n",
    "   - \\( S_0 \\) is the current stock price,\n",
    "   - \\( Z \\) is a standard normal random variable \\( Z \\sim N(0, 1) \\).\n",
    "\n",
    "2. **Estimate Payoff**:  \n",
    "   For a **call option**, the payoff is calculated as:\n",
    "\n",
    "   $$\n",
    "   \\text{Payoff}_{\\text{call}} = \\max(S_T - K, 0)\n",
    "   $$\n",
    "\n",
    "   For a **put option**, the payoff is:\n",
    "\n",
    "   $$\n",
    "   \\text{Payoff}_{\\text{put}} = \\max(K - S_T, 0)\n",
    "   $$\n",
    "\n",
    "   Where \\( K \\) is the strike price of the option.\n",
    "\n",
    "3. **Discount Payoffs**:  \n",
    "   The simulated payoffs are then discounted to present value using the risk-free interest rate:\n",
    "\n",
    "   $$\n",
    "   \\text{Discounted Payoff} = e^{-rT} \\cdot \\text{Payoff}\n",
    "   $$\n",
    "\n",
    "4. **Compute Option Price**:  \n",
    "   The option price is the average of all discounted payoffs across the simulated paths:\n",
    "\n",
    "   $$\n",
    "   \\text{Option Price} = \\frac{1}{N} \\sum_{i=1}^{N} \\text{Discounted Payoff}_i\n",
    "   $$\n",
    "\n",
    "   Where \\( N \\) is the number of simulations.\n",
    "\n",
    "### Conclusion:\n",
    "\n",
    "The Monte Carlo method is particularly useful for pricing options with complex features, where closed-form solutions like the Black-Scholes model are not available. However, it may require a large number of simulations for accurate estimates, making it computationally expensive.\n",
    "\n"
   ]
  },
  {
   "cell_type": "code",
   "execution_count": 6,
   "metadata": {},
   "outputs": [],
   "source": [
    "def monte_carlo(S, K, T, r, sigma, num_simulations, option_type='call'):\n",
    "    np.random.seed(42)\n",
    "    dt = T / num_simulations\n",
    "    price_matrix = np.zeros((num_simulations, 1))\n",
    "\n",
    "    for i in range(num_simulations):\n",
    "        W = np.random.standard_normal(num_simulations)\n",
    "        S_t = S * np.exp(np.cumsum((r - 0.5 * sigma**2) * dt + sigma * np.sqrt(dt) * W))\n",
    "        if option_type == 'call':\n",
    "            price_matrix[i] = max(0, S_t[-1] - K)\n",
    "        elif option_type == 'put':\n",
    "            price_matrix[i] = max(0, K - S_t[-1])\n",
    "\n",
    "    option_price = np.exp(-r * T) * np.mean(price_matrix)\n",
    "    return option_price\n"
   ]
  },
  {
   "cell_type": "code",
   "execution_count": 4,
   "metadata": {},
   "outputs": [],
   "source": [
    "#Pulls data of the stock price directly from yahoo finance. \n",
    "def get_live_stock_price(ticker):\n",
    "    stock = yf.Ticker(ticker)\n",
    "    current_price = stock.history(period=\"1d\")['Close'].iloc[-1]\n",
    "    return current_price"
   ]
  },
  {
   "cell_type": "code",
   "execution_count": 7,
   "metadata": {},
   "outputs": [],
   "source": [
    "#Get data of option price directly from yahoo finance\n",
    "def get_option_price(ticker, expiration_date, strike_price, option_type='call'):\n",
    "    stock = yf.Ticker(ticker)\n",
    "    options = stock.option_chain(expiration_date)\n",
    "    \n",
    "    if option_type == 'call':\n",
    "        option_data = options.calls\n",
    "    elif option_type == 'put':\n",
    "        option_data = options.puts\n",
    "    \n",
    "    option = option_data[option_data['strike'] == strike_price]\n",
    "    \n",
    "    if not option.empty:\n",
    "        return option['lastPrice'].values[0]\n",
    "    else:\n",
    "        return None"
   ]
  },
  {
   "cell_type": "code",
   "execution_count": 8,
   "metadata": {},
   "outputs": [],
   "source": [
    "#will get the option expiry data for a ticker. \n",
    "def get_option_expiration_dates(ticker):\n",
    "    stock = yf.Ticker(ticker)\n",
    "    expiration_dates = stock.options\n",
    "    return expiration_dates\n"
   ]
  },
  {
   "cell_type": "code",
   "execution_count": 9,
   "metadata": {},
   "outputs": [],
   "source": [
    "#How to get strike Price\n",
    "def get_strike_prices(ticker, expiration_date):\n",
    "    stock = yf.Ticker(ticker)\n",
    "    options = stock.option_chain(expiration_date)\n",
    "    return options.calls['strike'].tolist(), options.puts['strike'].tolist()"
   ]
  },
  {
   "cell_type": "code",
   "execution_count": 10,
   "metadata": {},
   "outputs": [],
   "source": [
    "# How to get Time to Maturity\n",
    "def get_time_to_maturity(expiration_date):\n",
    "    today = datetime.now()\n",
    "    expiration = datetime.strptime(expiration_date, \"%Y-%m-%d\")\n",
    "    days_to_maturity = (expiration - today).days\n",
    "    return days_to_maturity / 365.0  # Convert days to years\n"
   ]
  },
  {
   "cell_type": "code",
   "execution_count": 11,
   "metadata": {},
   "outputs": [],
   "source": [
    "#How to get volatility\n",
    "def get_historical_volatility(ticker, period=\"1y\"):\n",
    "    stock = yf.Ticker(ticker)\n",
    "    data = stock.history(period=period)\n",
    "    data['Log Returns'] = np.log(data['Close'] / data['Close'].shift(1))\n",
    "    volatility = data['Log Returns'].std() * np.sqrt(252)  # Annualize the volatility\n",
    "    return volatility"
   ]
  },
  {
   "cell_type": "code",
   "execution_count": 12,
   "metadata": {},
   "outputs": [
    {
     "name": "stdout",
     "output_type": "stream",
     "text": [
      "10-Year Treasury Yield (Risk-Free Rate): 0.0382\n"
     ]
    },
    {
     "name": "stderr",
     "output_type": "stream",
     "text": [
      "C:\\Users\\omarh\\AppData\\Local\\Temp\\ipykernel_11536\\3332345628.py:2: FutureWarning: Series.__getitem__ treating keys as positions is deprecated. In a future version, integer keys will always be treated as labels (consistent with DataFrame behavior). To access a value by position, use `ser.iloc[pos]`\n",
      "  risk_free_rate = fred.get_series('DGS10')[-1] / 100  # 10-year Treasury yield\n"
     ]
    }
   ],
   "source": [
    "# Use federal reserve to pull the 10 year treasurt rate, which will be used as the risk free rate for the black scholes model \n",
    "fred = Fred(api_key=\"API_KEY\")\n",
    "risk_free_rate = fred.get_series('DGS10')[-1] / 100  # 10-year Treasury yield\n",
    "print(f\"10-Year Treasury Yield (Risk-Free Rate): {risk_free_rate}\")"
   ]
  },
  {
   "cell_type": "code",
   "execution_count": 13,
   "metadata": {},
   "outputs": [],
   "source": [
    "ticker = 'AAPL'\n"
   ]
  },
  {
   "cell_type": "code",
   "execution_count": 19,
   "metadata": {},
   "outputs": [],
   "source": [
    "S = get_live_stock_price(ticker)\n",
    "K = 250\n",
    "expiration_date = \"2024-12-20\"\n",
    "T = get_time_to_maturity(expiration_date)\n",
    "r = risk_free_rate  # Manual input or fetch from another source\n",
    "sigma = get_historical_volatility(ticker)\n",
    "option_choice = 'call' # Can be 'call' or 'put'"
   ]
  },
  {
   "cell_type": "code",
   "execution_count": 20,
   "metadata": {},
   "outputs": [
    {
     "name": "stdout",
     "output_type": "stream",
     "text": [
      "Current AAPL stock price: 227.31500244140625\n",
      "Current AAPL call option price for strike 250 on 2024-12-20: 4.4\n",
      "Current Stock Price (S): 227.31500244140625\n",
      "Strike Price (K): 250\n",
      "Time to Maturity (T): 0.3095890410958904 years\n",
      "Risk-Free Rate (r): 0.0382\n",
      "Volatility (sigma): 0.22389778361685747\n",
      "Black-Scholes model price: 4.4420035199339125\n",
      "Monte Carlo simulation price: 4.255119480217223\n"
     ]
    }
   ],
   "source": [
    "# Get live prices\n",
    "current_stock_price = get_live_stock_price(ticker)\n",
    "current_option_price = get_option_price(ticker, expiration_date, K, option_choice)\n",
    "\n",
    "print(f\"Current {ticker} stock price: {current_stock_price}\")\n",
    "print(f\"Current {ticker} {option_choice} option price for strike {K} on {expiration_date}: {current_option_price}\")\n",
    "print(f\"Current Stock Price (S): {S}\")\n",
    "print(f\"Strike Price (K): {K}\")\n",
    "print(f\"Time to Maturity (T): {T} years\")\n",
    "print(f\"Risk-Free Rate (r): {r}\")\n",
    "print(f\"Volatility (sigma): {sigma}\")\n",
    "# Use these values in your Monte Carlo or Black-Scholes models\n",
    "bs_price = black_scholes(S, K, T, r, sigma, option_choice)\n",
    "mc_price = monte_carlo(S, K, T, r, sigma, num_simulations=10000, option_type=option_choice)\n",
    "\n",
    "print(f\"Black-Scholes model price: {bs_price}\")\n",
    "print(f\"Monte Carlo simulation price: {mc_price}\")"
   ]
  },
  {
   "cell_type": "code",
   "execution_count": 21,
   "metadata": {},
   "outputs": [],
   "source": [
    "# Function to get viable expiration dates within the next 6 months\n",
    "def get_viable_expiration_dates(ticker, max_months=6):\n",
    "    stock = yf.Ticker(ticker)\n",
    "    all_expiration_dates = stock.options\n",
    "    today = datetime.now()\n",
    "    max_date = today + timedelta(days=max_months * 30)\n",
    "    \n",
    "    viable_dates = [date for date in all_expiration_dates if today <= datetime.strptime(date, \"%Y-%m-%d\") <= max_date]\n",
    "    return viable_dates\n",
    "\n",
    "# Function to get strike prices within a percentage range of the current stock price\n",
    "def get_viable_strike_prices(ticker, expiration_date, price_range_percent=10):\n",
    "    stock = yf.Ticker(ticker)\n",
    "    current_price = get_live_stock_price(ticker)\n",
    "    options = stock.option_chain(expiration_date)\n",
    "    \n",
    "    min_price = current_price * (1 - price_range_percent / 100)\n",
    "    max_price = current_price * (1 + price_range_percent / 100)\n",
    "    \n",
    "    call_strikes = options.calls['strike']\n",
    "    put_strikes = options.puts['strike']\n",
    "    \n",
    "    viable_strikes = sorted(set(call_strikes[call_strikes.between(min_price, max_price)].tolist() +\n",
    "                                put_strikes[put_strikes.between(min_price, max_price)].tolist()))\n",
    "    \n",
    "    return viable_strikes"
   ]
  },
  {
   "cell_type": "code",
   "execution_count": 36,
   "metadata": {},
   "outputs": [],
   "source": [
    "def get_robinhood_option_price(ticker, expiration_date, strike_price, option_type='call'):\n",
    "    # Search for the option ID\n",
    "    options = rh.options.find_options_by_expiration_and_strike(\n",
    "        ticker, expirationDate=expiration_date, strikePrice=str(strike_price), optionType=option_type\n",
    "    )\n",
    "    \n",
    "    if options:\n",
    "        # Fetch market data for the first option found\n",
    "        option_data = rh.options.get_option_market_data_by_id(options[0]['id'])\n",
    "        return option_data['adjusted_mark_price']\n",
    "    else:\n",
    "        return None"
   ]
  },
  {
   "cell_type": "code",
   "execution_count": 41,
   "metadata": {},
   "outputs": [
    {
     "ename": "",
     "evalue": "",
     "output_type": "error",
     "traceback": [
      "\u001b[1;31mThe Kernel crashed while executing code in the current cell or a previous cell. \n",
      "\u001b[1;31mPlease review the code in the cell(s) to identify a possible cause of the failure. \n",
      "\u001b[1;31mClick <a href='https://aka.ms/vscodeJupyterKernelCrash'>here</a> for more info. \n",
      "\u001b[1;31mView Jupyter <a href='command:jupyter.viewOutput'>log</a> for further details."
     ]
    }
   ],
   "source": [
    "class RobinhoodClient:\n",
    "    def __init__(self, username, password):\n",
    "        self.username = username\n",
    "        self.password = password\n",
    "        self.login()\n",
    "\n",
    "    def login(self):\n",
    "        rh.login(self.username, self.password)\n",
    "\n",
    "    def get_option_price(self, ticker, expiration_date, strike_price, option_type='call'):\n",
    "        options = rh.options.find_options_by_expiration_and_strike(\n",
    "            ticker, expirationDate=expiration_date, strikePrice=str(strike_price), optionType=option_type\n",
    "        )\n",
    "        if options:\n",
    "            option_data = rh.options.get_option_market_data_by_id(options[0]['id'])\n",
    "            return option_data['adjusted_mark_price']\n",
    "        else:\n",
    "            return None\n",
    "    \n",
    "    def logout(self):\n",
    "        rh.logout()"
   ]
  },
  {
   "cell_type": "code",
   "execution_count": 38,
   "metadata": {},
   "outputs": [
    {
     "ename": "Exception",
     "evalue": "find_options_by_expiration_and_strike can only be called when logged in",
     "output_type": "error",
     "traceback": [
      "\u001b[1;31m---------------------------------------------------------------------------\u001b[0m",
      "\u001b[1;31mException\u001b[0m                                 Traceback (most recent call last)",
      "Cell \u001b[1;32mIn[38], line 16\u001b[0m\n\u001b[0;32m     13\u001b[0m             sigma \u001b[38;5;241m=\u001b[39m get_historical_volatility(ticker)\n\u001b[0;32m     15\u001b[0m             bs_price \u001b[38;5;241m=\u001b[39m black_scholes(S, strike_price, T, r, sigma, option_type\u001b[38;5;241m=\u001b[39m\u001b[38;5;124m'\u001b[39m\u001b[38;5;124mcall\u001b[39m\u001b[38;5;124m'\u001b[39m)\n\u001b[1;32m---> 16\u001b[0m             robinhood_price \u001b[38;5;241m=\u001b[39m \u001b[43mget_robinhood_option_price\u001b[49m\u001b[43m(\u001b[49m\u001b[43mticker\u001b[49m\u001b[43m,\u001b[49m\u001b[43m \u001b[49m\u001b[43mexpiration_date\u001b[49m\u001b[43m,\u001b[49m\u001b[43m \u001b[49m\u001b[43mstrike_price\u001b[49m\u001b[43m,\u001b[49m\u001b[43m \u001b[49m\u001b[43moption_type\u001b[49m\u001b[38;5;241;43m=\u001b[39;49m\u001b[38;5;124;43m'\u001b[39;49m\u001b[38;5;124;43mcall\u001b[39;49m\u001b[38;5;124;43m'\u001b[39;49m\u001b[43m)\u001b[49m\n\u001b[0;32m     18\u001b[0m             results\u001b[38;5;241m.\u001b[39mappend({\n\u001b[0;32m     19\u001b[0m                 \u001b[38;5;124m\"\u001b[39m\u001b[38;5;124mTicker\u001b[39m\u001b[38;5;124m\"\u001b[39m: ticker,\n\u001b[0;32m     20\u001b[0m                 \u001b[38;5;124m\"\u001b[39m\u001b[38;5;124mExpiration Date\u001b[39m\u001b[38;5;124m\"\u001b[39m: expiration_date,\n\u001b[1;32m   (...)\u001b[0m\n\u001b[0;32m     23\u001b[0m                 \u001b[38;5;124m\"\u001b[39m\u001b[38;5;124mRobinhood Price\u001b[39m\u001b[38;5;124m\"\u001b[39m: robinhood_price  \n\u001b[0;32m     24\u001b[0m             })\n\u001b[0;32m     26\u001b[0m \u001b[38;5;66;03m# Print results\u001b[39;00m\n",
      "Cell \u001b[1;32mIn[36], line 3\u001b[0m, in \u001b[0;36mget_robinhood_option_price\u001b[1;34m(ticker, expiration_date, strike_price, option_type)\u001b[0m\n\u001b[0;32m      1\u001b[0m \u001b[38;5;28;01mdef\u001b[39;00m \u001b[38;5;21mget_robinhood_option_price\u001b[39m(ticker, expiration_date, strike_price, option_type\u001b[38;5;241m=\u001b[39m\u001b[38;5;124m'\u001b[39m\u001b[38;5;124mcall\u001b[39m\u001b[38;5;124m'\u001b[39m):\n\u001b[0;32m      2\u001b[0m     \u001b[38;5;66;03m# Search for the option ID\u001b[39;00m\n\u001b[1;32m----> 3\u001b[0m     options \u001b[38;5;241m=\u001b[39m \u001b[43mrh\u001b[49m\u001b[38;5;241;43m.\u001b[39;49m\u001b[43moptions\u001b[49m\u001b[38;5;241;43m.\u001b[39;49m\u001b[43mfind_options_by_expiration_and_strike\u001b[49m\u001b[43m(\u001b[49m\n\u001b[0;32m      4\u001b[0m \u001b[43m        \u001b[49m\u001b[43mticker\u001b[49m\u001b[43m,\u001b[49m\u001b[43m \u001b[49m\u001b[43mexpirationDate\u001b[49m\u001b[38;5;241;43m=\u001b[39;49m\u001b[43mexpiration_date\u001b[49m\u001b[43m,\u001b[49m\u001b[43m \u001b[49m\u001b[43mstrikePrice\u001b[49m\u001b[38;5;241;43m=\u001b[39;49m\u001b[38;5;28;43mstr\u001b[39;49m\u001b[43m(\u001b[49m\u001b[43mstrike_price\u001b[49m\u001b[43m)\u001b[49m\u001b[43m,\u001b[49m\u001b[43m \u001b[49m\u001b[43moptionType\u001b[49m\u001b[38;5;241;43m=\u001b[39;49m\u001b[43moption_type\u001b[49m\n\u001b[0;32m      5\u001b[0m \u001b[43m    \u001b[49m\u001b[43m)\u001b[49m\n\u001b[0;32m      7\u001b[0m     \u001b[38;5;28;01mif\u001b[39;00m options:\n\u001b[0;32m      8\u001b[0m         \u001b[38;5;66;03m# Fetch market data for the first option found\u001b[39;00m\n\u001b[0;32m      9\u001b[0m         option_data \u001b[38;5;241m=\u001b[39m rh\u001b[38;5;241m.\u001b[39moptions\u001b[38;5;241m.\u001b[39mget_option_market_data_by_id(options[\u001b[38;5;241m0\u001b[39m][\u001b[38;5;124m'\u001b[39m\u001b[38;5;124mid\u001b[39m\u001b[38;5;124m'\u001b[39m])\n",
      "File \u001b[1;32m~\\AppData\\Local\\Packages\\PythonSoftwareFoundation.Python.3.11_qbz5n2kfra8p0\\LocalCache\\local-packages\\Python311\\site-packages\\robin_stocks\\robinhood\\helper.py:31\u001b[0m, in \u001b[0;36mlogin_required.<locals>.login_wrapper\u001b[1;34m(*args, **kwargs)\u001b[0m\n\u001b[0;32m     29\u001b[0m \u001b[38;5;28;01mglobal\u001b[39;00m LOGGED_IN\n\u001b[0;32m     30\u001b[0m \u001b[38;5;28;01mif\u001b[39;00m \u001b[38;5;129;01mnot\u001b[39;00m LOGGED_IN:\n\u001b[1;32m---> 31\u001b[0m     \u001b[38;5;28;01mraise\u001b[39;00m \u001b[38;5;167;01mException\u001b[39;00m(\u001b[38;5;124m'\u001b[39m\u001b[38;5;132;01m{}\u001b[39;00m\u001b[38;5;124m can only be called when logged in\u001b[39m\u001b[38;5;124m'\u001b[39m\u001b[38;5;241m.\u001b[39mformat(\n\u001b[0;32m     32\u001b[0m         func\u001b[38;5;241m.\u001b[39m\u001b[38;5;18m__name__\u001b[39m))\n\u001b[0;32m     33\u001b[0m \u001b[38;5;28;01mreturn\u001b[39;00m(func(\u001b[38;5;241m*\u001b[39margs, \u001b[38;5;241m*\u001b[39m\u001b[38;5;241m*\u001b[39mkwargs))\n",
      "\u001b[1;31mException\u001b[0m: find_options_by_expiration_and_strike can only be called when logged in"
     ]
    }
   ],
   "source": [
    "tickers = [\"TSLA\"]\n",
    "results = []\n",
    "# Logging into Robinhood using credentials (replace 'your_username' and 'your_password' with actual credentials)\n",
    "\n",
    "rh.login('your_username', 'your_password')\n",
    "\n",
    "# Loop over each stock ticker in the tickers list\n",
    "for ticker in tickers:\n",
    "    # Get viable expiration dates for the options (within the next 6 months)\n",
    "    expiration_dates = get_viable_expiration_dates(ticker, max_months=6)\n",
    "     # Loop through each expiration date\n",
    "    for expiration_date in expiration_dates:\n",
    "        # Get viable strike prices within 20% price range for each expiration date\n",
    "        strike_prices = get_viable_strike_prices(ticker, expiration_date, price_range_percent=20)\n",
    "        # Loop through each strike price for the given expiration date\n",
    "        for strike_price in strike_prices:\n",
    "            S = get_live_stock_price(ticker) # Get the live/current stock price of the ticker\n",
    "            T = get_time_to_maturity(expiration_date) # Calculate the time to maturity for the option\n",
    "            sigma = get_historical_volatility(ticker) # Get historical volatility of the stock price\n",
    "            \n",
    "            bs_price = black_scholes(S, strike_price, T, r, sigma, option_type='call') #calculate Black Scholes model\n",
    "            robinhood_price = get_robinhood_option_price(ticker, expiration_date, strike_price, option_type='call') #Pulls RH price\n",
    "            # mc_price = monte_carlo(S, K, T, r, sigma, num_simulations=10000, option_type=option_choice) -> would use, but heavy computation resulting in long run times\n",
    "            results.append({ # Store the result in the results list with all the relevant information\n",
    "                \"Ticker\": ticker,\n",
    "                \"Expiration Date\": expiration_date,\n",
    "                \"Strike Price\": strike_price,\n",
    "                \"Black-Scholes Price\": bs_price,\n",
    "                \"Robinhood Price\": robinhood_price  \n",
    "            })\n",
    "\n",
    "# Print results\n",
    "for result in results:\n",
    "    print(result)"
   ]
  },
  {
   "cell_type": "code",
   "execution_count": 39,
   "metadata": {},
   "outputs": [
    {
     "name": "stdout",
     "output_type": "stream",
     "text": [
      "Empty DataFrame\n",
      "Columns: []\n",
      "Index: []\n"
     ]
    }
   ],
   "source": [
    "# Convert results list to a pandas DataFrame\n",
    "df_results = pd.DataFrame(results)\n",
    "\n",
    "# Display the DataFrame\n",
    "print(df_results)"
   ]
  }
 ],
 "metadata": {
  "kernelspec": {
   "display_name": "Python 3",
   "language": "python",
   "name": "python3"
  },
  "language_info": {
   "codemirror_mode": {
    "name": "ipython",
    "version": 3
   },
   "file_extension": ".py",
   "mimetype": "text/x-python",
   "name": "python",
   "nbconvert_exporter": "python",
   "pygments_lexer": "ipython3",
   "version": "3.11.9"
  }
 },
 "nbformat": 4,
 "nbformat_minor": 2
}
